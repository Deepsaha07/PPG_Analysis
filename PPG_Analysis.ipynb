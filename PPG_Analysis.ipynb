{
 "cells": [
  {
   "cell_type": "markdown",
   "id": "5c951afd",
   "metadata": {
    "colab_type": "text",
    "id": "view-in-github"
   },
   "source": [
    "<a href=\"https://colab.research.google.com/github/Deepsaha07/PPG_Analysis/blob/master/PPG_Analysis.ipynb\" target=\"_parent\"><img src=\"https://colab.research.google.com/assets/colab-badge.svg\" alt=\"Open In Colab\"/></a>"
   ]
  },
  {
   "cell_type": "code",
   "execution_count": 1,
   "id": "6ab30a9c",
   "metadata": {
    "id": "6ab30a9c"
   },
   "outputs": [],
   "source": [
    "import numpy as np\n",
    "import sys\n",
    "from sklearn.preprocessing import StandardScaler\n",
    "#np.set_printoptions(threshold=sys.maxsize)\n",
    "from keras.models import Sequential\n",
    "from scipy import signal\n",
    "from keras.layers import LSTM, Dense, Dropout, BatchNormalization, Embedding\n",
    "from keras.layers import Conv1D, MaxPooling1D, Activation, Flatten\n",
    "from keras.preprocessing import sequence\n",
    "import scipy.io as scio\n",
    "# fix random seed for reproducibility\n",
    "np.random.seed(7)\n",
    "import math\n",
    "import warnings\n",
    "\n",
    "warnings.filterwarnings('ignore')"
   ]
  },
  {
   "cell_type": "code",
   "execution_count": 40,
   "id": "zCDIZ8l7Jn1J",
   "metadata": {
    "id": "zCDIZ8l7Jn1J"
   },
   "outputs": [],
   "source": [
    "import tensorflow as tf\n",
    "import sys\n",
    "from sklearn.preprocessing import StandardScaler\n",
    "#np.set_printoptions(threshold=sys.maxsize)\n",
    "from keras.models import Sequential\n",
    "from numba import jit,cuda\n",
    "from keras.layers import LSTM, Dense, Dropout, BatchNormalization, Embedding\n",
    "from keras.layers import Conv1D, MaxPooling1D, Activation, Flatten\n",
    "from keras.preprocessing import sequence\n",
    "import scipy.io as scio\n",
    "from sklearn.model_selection import train_test_split\n",
    "# fix random seed for reproducibility\n",
    "np.random.seed(7)\n",
    "import warnings\n",
    "warnings.filterwarnings('ignore')"
   ]
  },
  {
   "cell_type": "code",
   "execution_count": 3,
   "id": "cBksQ_2PDril",
   "metadata": {
    "colab": {
     "base_uri": "https://localhost:8080/"
    },
    "id": "cBksQ_2PDril",
    "outputId": "cbb93ecd-ae56-442b-89fd-eb50082b4772"
   },
   "outputs": [
    {
     "ename": "ModuleNotFoundError",
     "evalue": "No module named 'google.colab'",
     "output_type": "error",
     "traceback": [
      "\u001b[1;31m---------------------------------------------------------------------------\u001b[0m",
      "\u001b[1;31mModuleNotFoundError\u001b[0m                       Traceback (most recent call last)",
      "\u001b[1;32m~\\AppData\\Local\\Temp\\ipykernel_5132\\3164841582.py\u001b[0m in \u001b[0;36m<module>\u001b[1;34m\u001b[0m\n\u001b[1;32m----> 1\u001b[1;33m \u001b[1;32mfrom\u001b[0m \u001b[0mgoogle\u001b[0m\u001b[1;33m.\u001b[0m\u001b[0mcolab\u001b[0m \u001b[1;32mimport\u001b[0m \u001b[0mdrive\u001b[0m\u001b[1;33m\u001b[0m\u001b[1;33m\u001b[0m\u001b[0m\n\u001b[0m\u001b[0;32m      2\u001b[0m \u001b[1;33m\u001b[0m\u001b[0m\n\u001b[0;32m      3\u001b[0m \u001b[0mdrive\u001b[0m\u001b[1;33m.\u001b[0m\u001b[0mmount\u001b[0m\u001b[1;33m(\u001b[0m\u001b[1;34m'/content/gdrive'\u001b[0m\u001b[1;33m)\u001b[0m\u001b[1;33m\u001b[0m\u001b[1;33m\u001b[0m\u001b[0m\n",
      "\u001b[1;31mModuleNotFoundError\u001b[0m: No module named 'google.colab'"
     ]
    }
   ],
   "source": [
    "from google.colab import drive\n",
    "\n",
    "drive.mount('/content/gdrive')"
   ]
  },
  {
   "cell_type": "code",
   "execution_count": 3,
   "id": "c56c1c22",
   "metadata": {
    "colab": {
     "base_uri": "https://localhost:8080/"
    },
    "id": "c56c1c22",
    "outputId": "ee8e490e-a4b9-4e75-cfb0-40fa8b81c079"
   },
   "outputs": [
    {
     "name": "stdout",
     "output_type": "stream",
     "text": [
      "D:\\GitHub\\PPG_Analysis\n"
     ]
    }
   ],
   "source": [
    "import os\n",
    "import pandas as pd\n",
    "\n",
    "print(os.getcwd())\n",
    "#path = '/content/gdrive/MyDrive/csv'\n",
    "path ='D:\\GitHub\\PPG_Analysis\\csv'\n",
    "set = {}\n",
    "\n",
    "\n",
    "for dataset in os.listdir(path):\n",
    "\n",
    "    head,sep,tail = dataset.partition('.')\n",
    "     #print(head)\n",
    "    data = pd.read_csv(os.path.join(path,dataset))\n",
    "    set[head] = data\n",
    "\n",
    "\n",
    "\n",
    "\n",
    "\n",
    "\n"
   ]
  },
  {
   "cell_type": "code",
   "execution_count": 97,
   "id": "cc37ccdb",
   "metadata": {
    "id": "cc37ccdb"
   },
   "outputs": [],
   "source": [
    "\n",
    "alllabels = pd.DataFrame()\n",
    "dset = pd.DataFrame()\n",
    "i=0\n",
    "for key,value in set.items():\n",
    "    #subs.append(i.split('_')\n",
    "    subs=[]\n",
    "    labels = []\n",
    "    featureset=[]\n",
    "    data = pd.DataFrame(value.iloc[:,:9])\n",
    "    sub_label = key.split('_')\n",
    "    sub = sub_label[0]\n",
    "    label = sub_label[1]\n",
    "    for i in range(len(data)):\n",
    "        subs.append([sub])\n",
    "        labels.append(label)\n",
    "    labels = pd.DataFrame(labels,columns=['Label'])\n",
    "    subs = pd.DataFrame(subs,columns=['SubjectID'])\n",
    "    featureset = pd.concat([subs,data,labels],axis=1)\n",
    "    if i<1:\n",
    "        dset = featureset\n",
    "        #alllabels = labels\n",
    "    else:\n",
    "        \n",
    "        f = featureset.copy()\n",
    "        #l = labels.copy()\n",
    "        dset = pd.concat([dset,f],axis=0)\n",
    "        #alllabels = pd.concat([alllabels,l],axis=0)\n",
    "    i+=1\n",
    "    "
   ]
  },
  {
   "cell_type": "code",
   "execution_count": 98,
   "id": "eb9615d3",
   "metadata": {
    "id": "eb9615d3"
   },
   "outputs": [],
   "source": [
    "dset=dset.drop(['time'],axis=1)"
   ]
  },
  {
   "cell_type": "code",
   "execution_count": 99,
   "id": "a7f25ea9",
   "metadata": {
    "id": "a7f25ea9"
   },
   "outputs": [],
   "source": [
    "features = dset.drop(['SubjectID','Label'],axis =1)\n",
    "featureshape = features.shape[1]"
   ]
  },
  {
   "cell_type": "code",
   "execution_count": 100,
   "id": "e2fa1d25",
   "metadata": {},
   "outputs": [],
   "source": [
    "\n",
    "gp=dset.groupby('SubjectID').agg(pd.Series.tolist)\n",
    "\n",
    "    "
   ]
  },
  {
   "cell_type": "code",
   "execution_count": 102,
   "id": "f377c12e",
   "metadata": {},
   "outputs": [],
   "source": [
    "forgrouping = dset.drop(['SubjectID'],axis=1)\n",
    "forgroupingcolumns = forgrouping.columns\n",
    "allcolumns = dset.columns"
   ]
  },
  {
   "cell_type": "code",
   "execution_count": 103,
   "id": "83387e1e",
   "metadata": {},
   "outputs": [],
   "source": [
    "groupwarray = pd.DataFrame(columns=allcolumns) \n",
    "#len(gp.iloc[21]\n",
    "  \n",
    "for counter in range(gp.shape[0]):\n",
    "    newarr = pd.DataFrame(columns=forgroupingcolumns)\n",
    "    for incount in range(gp.shape[1]):\n",
    "    \n",
    "        newarr[forgroupingcolumns[incount]] = gp.iloc[counter][incount]\n",
    "        newgr = newarr.groupby('Label').agg(pd.Series.tolist)\n",
    "        ngi = newarr.groupby('Label')\n",
    "        ngic = ngi.count()\n",
    "        \n",
    "        for nc in range(newgr.shape[0]):\n",
    "            \n",
    "            labelwarray = []\n",
    "            labelwarray = pd.DataFrame(columns=allcolumns) \n",
    "            resarray=[]\n",
    "            resarray = pd.DataFrame(columns=allcolumns) \n",
    "            \n",
    "            for ncc in range(newgr.shape[1]):\n",
    "                #resarray=[]\n",
    "                #resarray = pd.DataFrame(columns=allcolumns) \n",
    "                \n",
    "                dt = newgr.iloc[nc][ncc]\n",
    "                #print(dt)\n",
    "                rdt = signal.resample(dt,math.floor(len(dt)/10))\n",
    "                resarray[forgroupingcolumns[ncc]] = rdt\n",
    "                #resarray[allcolumns[0]] = np.ones(len(rdt))*counter\n",
    "                #resarray[allcolumns[-1]] = np.ones(len(rdt))*ngic.index[nc]\n",
    "                resarray[allcolumns[0]] = gp.index[counter]\n",
    "                resarray[allcolumns[-1]] = newgr.index[nc]\n",
    "                \n",
    "                #temp = resarray.copy()    \n",
    "                #labelwarray = pd.concat([labelwarray,resarray],axis=0)\n",
    "            \n",
    "            groupwarray = pd.concat([groupwarray,resarray],axis=0)\n",
    "            "
   ]
  },
  {
   "cell_type": "code",
   "execution_count": 112,
   "id": "bbe62073",
   "metadata": {},
   "outputs": [],
   "source": [
    "newfeatures = groupwarray.drop(['SubjectID','Label'],axis=1)"
   ]
  },
  {
   "cell_type": "code",
   "execution_count": 113,
   "id": "fPyxk_T1J7ta",
   "metadata": {
    "id": "fPyxk_T1J7ta"
   },
   "outputs": [],
   "source": [
    "@jit(target_backend='cuda')\n",
    "def olrem(data):\n",
    "    data1 = data.copy()\n",
    "    for key,item in data.items():\n",
    "        \n",
    "    \n",
    "        Q1 = item.quantile(0.25)\n",
    "        Q3 = item.quantile(0.75)\n",
    "        IQR = Q3 - Q1\n",
    "        lrange = Q1 - 1.5*IQR\n",
    "        urange = Q3 + 1.5*IQR\n",
    "\n",
    "        data1.loc[data1[key]<lrange,key]=0\n",
    "        data1.loc[data1[key]>urange,key]=0\n",
    "        \n",
    "        data.loc[data[key]<lrange,key] = np.mean(data1[key])\n",
    "        data.loc[data[key]>urange,key]= np.mean(data1[key])\n",
    "    \n",
    "        \n",
    "        \n",
    "\n",
    "        return data  "
   ]
  },
  {
   "cell_type": "code",
   "execution_count": 114,
   "id": "oMlDBlj6KIka",
   "metadata": {
    "id": "oMlDBlj6KIka"
   },
   "outputs": [],
   "source": [
    "refet = olrem(newfeatures)"
   ]
  },
  {
   "cell_type": "code",
   "execution_count": 115,
   "id": "2d0739db",
   "metadata": {
    "id": "2d0739db"
   },
   "outputs": [],
   "source": [
    "scale = StandardScaler()\n",
    "fet = scale.fit_transform(refet)\n",
    "fet.astype('float16')\n",
    "dsett= groupwarray.copy()\n",
    "dsett.iloc[:,1:-1] = fet"
   ]
  },
  {
   "cell_type": "code",
   "execution_count": 136,
   "id": "c2a3c682",
   "metadata": {},
   "outputs": [],
   "source": [
    "from keras.utils import np_utils\n",
    "from sklearn.preprocessing import OrdinalEncoder,LabelEncoder, OneHotEncoder\n",
    "le = LabelEncoder()\n",
    "enc = OrdinalEncoder()\n",
    "\n",
    "yl = np.reshape(groupwarray['Label'].values,(-1,1))\n",
    "ohe  = OneHotEncoder( sparse=False).fit(yl)\n",
    "\n",
    "ye=ohe.transform(yl)\n",
    "#y = to_categorical(ye)\n",
    "dset['SubjectID'] = le.fit_transform(dset['SubjectID'])"
   ]
  },
  {
   "cell_type": "code",
   "execution_count": 139,
   "id": "1a84d066",
   "metadata": {},
   "outputs": [],
   "source": [
    "X_train,X_test,y_train,y_test = train_test_split(fet,ye,test_size=0.3)"
   ]
  },
  {
   "cell_type": "code",
   "execution_count": 143,
   "id": "225cf794",
   "metadata": {
    "colab": {
     "base_uri": "https://localhost:8080/"
    },
    "id": "225cf794",
    "outputId": "ea903c8f-1666-447e-aabd-26d189d6dfea"
   },
   "outputs": [
    {
     "name": "stdout",
     "output_type": "stream",
     "text": [
      "Model: \"sequential_6\"\n",
      "_________________________________________________________________\n",
      " Layer (type)                Output Shape              Param #   \n",
      "=================================================================\n",
      " lstm_12 (LSTM)              (None, 1, 50)             11800     \n",
      "                                                                 \n",
      " dropout_12 (Dropout)        (None, 1, 50)             0         \n",
      "                                                                 \n",
      " batch_normalization_6 (Batc  (None, 1, 50)            200       \n",
      " hNormalization)                                                 \n",
      "                                                                 \n",
      " lstm_13 (LSTM)              (None, 1, 80)             41920     \n",
      "                                                                 \n",
      " dropout_13 (Dropout)        (None, 1, 80)             0         \n",
      "                                                                 \n",
      " dense_8 (Dense)             (None, 1, 3)              243       \n",
      "                                                                 \n",
      "=================================================================\n",
      "Total params: 54,163\n",
      "Trainable params: 54,063\n",
      "Non-trainable params: 100\n",
      "_________________________________________________________________\n",
      "None\n"
     ]
    }
   ],
   "source": [
    "from keras.layers import Dropout\n",
    "model = Sequential()\n",
    "#model.add(Embedding(tot_length, embedding_vector_length, input_length=max_length))\n",
    "#model.add(Dropout(0.2))\n",
    "model.add(LSTM(50,activation = 'tanh',return_sequences=True, input_shape = (1,featureshape)))\n",
    "model.add(Dropout(0.5))\n",
    "model.add(BatchNormalization())\n",
    "model.add(LSTM(80,activation = 'sigmoid',return_sequences=True, stateful=False))\n",
    "#model.add(Dense(1, activation='sigmoid'))\n",
    "model.add(Dropout(0.5))\n",
    "model.add(Dense(3, activation='softmax'))\n",
    "model.compile(loss='binary_crossentropy', optimizer='adam', metrics=['accuracy'])\n",
    "#model.build()\n",
    "print(model.summary())\n"
   ]
  },
  {
   "cell_type": "code",
   "execution_count": 46,
   "id": "6fe379d0",
   "metadata": {},
   "outputs": [],
   "source": [
    "from keras.callbacks import EarlyStopping, ModelCheckpoint\n",
    "\n",
    "callback_a = ModelCheckpoint(filepath='my_best_model.hdf5',monitor = 'val_loss',save_best_only = True)\n",
    "callback_b = EarlyStopping(monitor = 'val_loss',mode = 'min', patience =20 , verbose =1)"
   ]
  },
  {
   "cell_type": "code",
   "execution_count": 144,
   "id": "78a0e25f",
   "metadata": {
    "colab": {
     "base_uri": "https://localhost:8080/",
     "height": 311
    },
    "id": "78a0e25f",
    "outputId": "45f87662-c110-4ce1-8361-17a44cafb94c"
   },
   "outputs": [
    {
     "name": "stdout",
     "output_type": "stream",
     "text": [
      "Epoch 1/30\n",
      "28380/28380 [==============================] - 108s 4ms/step - loss: 0.2562 - accuracy: 0.8259 - val_loss: 0.0815 - val_accuracy: 0.9556\n",
      "Epoch 2/30\n",
      "28380/28380 [==============================] - 104s 4ms/step - loss: 0.1508 - accuracy: 0.9032 - val_loss: 0.0541 - val_accuracy: 0.9724\n",
      "Epoch 3/30\n",
      "28380/28380 [==============================] - 108s 4ms/step - loss: 0.1274 - accuracy: 0.9195 - val_loss: 0.0506 - val_accuracy: 0.9718\n",
      "Epoch 4/30\n",
      "28380/28380 [==============================] - 105s 4ms/step - loss: 0.1161 - accuracy: 0.9268 - val_loss: 0.0438 - val_accuracy: 0.9753\n",
      "Epoch 5/30\n",
      "28380/28380 [==============================] - 118s 4ms/step - loss: 0.1081 - accuracy: 0.9327 - val_loss: 0.0389 - val_accuracy: 0.9804\n",
      "Epoch 6/30\n",
      "28380/28380 [==============================] - 116s 4ms/step - loss: 0.1021 - accuracy: 0.9361 - val_loss: 0.0363 - val_accuracy: 0.9796\n",
      "Epoch 7/30\n",
      "28380/28380 [==============================] - 114s 4ms/step - loss: 0.0970 - accuracy: 0.9398 - val_loss: 0.0344 - val_accuracy: 0.9819\n",
      "Epoch 8/30\n",
      "28380/28380 [==============================] - 115s 4ms/step - loss: 0.0932 - accuracy: 0.9423 - val_loss: 0.0349 - val_accuracy: 0.9806\n",
      "Epoch 9/30\n",
      "28380/28380 [==============================] - 112s 4ms/step - loss: 0.0899 - accuracy: 0.9446 - val_loss: 0.0306 - val_accuracy: 0.9824\n",
      "Epoch 10/30\n",
      "28380/28380 [==============================] - 115s 4ms/step - loss: 0.0873 - accuracy: 0.9462 - val_loss: 0.0307 - val_accuracy: 0.9819\n",
      "Epoch 11/30\n",
      "28380/28380 [==============================] - 113s 4ms/step - loss: 0.0852 - accuracy: 0.9479 - val_loss: 0.0294 - val_accuracy: 0.9828\n",
      "Epoch 12/30\n",
      "28380/28380 [==============================] - 114s 4ms/step - loss: 0.0827 - accuracy: 0.9496 - val_loss: 0.0293 - val_accuracy: 0.9816\n",
      "Epoch 13/30\n",
      "28380/28380 [==============================] - 113s 4ms/step - loss: 0.0810 - accuracy: 0.9503 - val_loss: 0.0263 - val_accuracy: 0.9847\n",
      "Epoch 14/30\n",
      "28380/28380 [==============================] - 112s 4ms/step - loss: 0.0792 - accuracy: 0.9518 - val_loss: 0.0315 - val_accuracy: 0.9780\n",
      "Epoch 15/30\n",
      "28380/28380 [==============================] - 112s 4ms/step - loss: 0.0781 - accuracy: 0.9525 - val_loss: 0.0282 - val_accuracy: 0.9818\n",
      "Epoch 16/30\n",
      "28380/28380 [==============================] - 113s 4ms/step - loss: 0.0763 - accuracy: 0.9538 - val_loss: 0.0287 - val_accuracy: 0.9812\n",
      "Epoch 17/30\n",
      "28380/28380 [==============================] - 112s 4ms/step - loss: 0.0750 - accuracy: 0.9545 - val_loss: 0.0281 - val_accuracy: 0.9799\n",
      "Epoch 18/30\n",
      "28380/28380 [==============================] - 110s 4ms/step - loss: 0.0742 - accuracy: 0.9554 - val_loss: 0.0282 - val_accuracy: 0.9806\n",
      "Epoch 19/30\n",
      "28380/28380 [==============================] - 107s 4ms/step - loss: 0.0729 - accuracy: 0.9559 - val_loss: 0.0302 - val_accuracy: 0.9802\n",
      "Epoch 20/30\n",
      "28380/28380 [==============================] - 104s 4ms/step - loss: 0.0721 - accuracy: 0.9565 - val_loss: 0.0278 - val_accuracy: 0.9808\n",
      "Epoch 21/30\n",
      "28380/28380 [==============================] - 107s 4ms/step - loss: 0.0711 - accuracy: 0.9570 - val_loss: 0.0262 - val_accuracy: 0.9832\n",
      "Epoch 22/30\n",
      "28380/28380 [==============================] - 113s 4ms/step - loss: 0.0705 - accuracy: 0.9575 - val_loss: 0.0291 - val_accuracy: 0.9762\n",
      "Epoch 23/30\n",
      "28380/28380 [==============================] - 114s 4ms/step - loss: 0.0694 - accuracy: 0.9581 - val_loss: 0.0274 - val_accuracy: 0.9806\n",
      "Epoch 24/30\n",
      "28380/28380 [==============================] - 113s 4ms/step - loss: 0.0694 - accuracy: 0.9582 - val_loss: 0.0255 - val_accuracy: 0.9826\n",
      "Epoch 25/30\n",
      "28380/28380 [==============================] - 110s 4ms/step - loss: 0.0685 - accuracy: 0.9587 - val_loss: 0.0264 - val_accuracy: 0.9790\n",
      "Epoch 26/30\n",
      "28380/28380 [==============================] - 113s 4ms/step - loss: 0.0679 - accuracy: 0.9594 - val_loss: 0.0259 - val_accuracy: 0.9834\n",
      "Epoch 27/30\n",
      "28380/28380 [==============================] - 114s 4ms/step - loss: 0.0674 - accuracy: 0.9595 - val_loss: 0.0266 - val_accuracy: 0.9809\n",
      "Epoch 28/30\n",
      "28380/28380 [==============================] - 115s 4ms/step - loss: 0.0666 - accuracy: 0.9602 - val_loss: 0.0272 - val_accuracy: 0.9834\n",
      "Epoch 29/30\n",
      "28380/28380 [==============================] - 114s 4ms/step - loss: 0.0661 - accuracy: 0.9606 - val_loss: 0.0265 - val_accuracy: 0.9819\n",
      "Epoch 30/30\n",
      "28380/28380 [==============================] - 112s 4ms/step - loss: 0.0662 - accuracy: 0.9604 - val_loss: 0.0260 - val_accuracy: 0.9830\n"
     ]
    }
   ],
   "source": [
    "with tf.device('/device:GPU:0'):\n",
    "    \n",
    "\n",
    "\n",
    "\n",
    "    X_tr= np.resize(X_train,(X_train.shape[0],1,X_train.shape[1]))\n",
    "    X_ts= np.resize(X_test,(X_test.shape[0],1,X_test.shape[1]))\n",
    "    y_tr = np.resize(y_train,(y_train.shape[0],1,y_train.shape[1]))\n",
    "    y_ts= np.resize(y_test,(y_test.shape[0],1,y_test.shape[1]))\n",
    "    \n",
    "    Model_check = model.fit(X_tr,y_tr, validation_data=(X_ts,y_ts),batch_size=40,epochs = 30,callbacks = [callback_a,callback_b])"
   ]
  },
  {
   "cell_type": "code",
   "execution_count": 145,
   "id": "8e1dc99a",
   "metadata": {},
   "outputs": [
    {
     "name": "stdout",
     "output_type": "stream",
     "text": [
      "{'verbose': 1, 'epochs': 30, 'steps': 28380}\n"
     ]
    }
   ],
   "source": [
    "print(Model_check.params)"
   ]
  },
  {
   "cell_type": "code",
   "execution_count": 151,
   "id": "d41b80f3",
   "metadata": {},
   "outputs": [
    {
     "data": {
      "image/png": "[encoded data removed]",
      "text/plain": [
       "<Figure size 640x480 with 1 Axes>"
      ]
     },
     "metadata": {},
     "output_type": "display_data"
    }
   ],
   "source": [
    "import matplotlib.pyplot as plt\n",
    "plt.plot(Model_check.history['accuracy'])\n",
    "plt.plot(Model_check.history['val_accuracy'])\n",
    "plt.ylabel('Accuracy')\n",
    "plt.xlabel('epoch')\n",
    "plt.legend(['traininig data','validation data'], loc = 'lower right')\n",
    "plt.show()"
   ]
  },
  {
   "cell_type": "code",
   "execution_count": null,
   "id": "6c58c1c5",
   "metadata": {},
   "outputs": [],
   "source": []
  }
 ],
 "metadata": {
  "accelerator": "GPU",
  "colab": {
   "include_colab_link": true,
   "machine_shape": "hm",
   "provenance": []
  },
  "gpuClass": "premium",
  "kernelspec": {
   "display_name": "Python 3 (ipykernel)",
   "language": "python",
   "name": "python3"
  },
  "language_info": {
   "codemirror_mode": {
    "name": "ipython",
    "version": 3
   },
   "file_extension": ".py",
   "mimetype": "text/x-python",
   "name": "python",
   "nbconvert_exporter": "python",
   "pygments_lexer": "ipython3",
   "version": "3.9.13"
  }
 },
 "nbformat": 4,
 "nbformat_minor": 5
}
