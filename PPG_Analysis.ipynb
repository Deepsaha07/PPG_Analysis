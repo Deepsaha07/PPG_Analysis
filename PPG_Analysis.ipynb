{
 "cells": [
  {
   "cell_type": "markdown",
   "id": "5c951afd",
   "metadata": {
    "colab_type": "text",
    "id": "view-in-github"
   },
   "source": [
    "<a href=\"https://colab.research.google.com/github/Deepsaha07/PPG_Analysis/blob/master/PPG_Analysis.ipynb\" target=\"_parent\"><img src=\"https://colab.research.google.com/assets/colab-badge.svg\" alt=\"Open In Colab\"/></a>"
   ]
  },
  {
   "cell_type": "code",
   "execution_count": 1,
   "id": "6ab30a9c",
   "metadata": {
    "id": "6ab30a9c"
   },
   "outputs": [],
   "source": [
    "import numpy as np\n",
    "import sys\n",
    "from sklearn.preprocessing import StandardScaler\n",
    "#np.set_printoptions(threshold=sys.maxsize)\n",
    "from keras.models import Sequential\n",
    "from scipy import signal\n",
    "from keras.layers import LSTM, Dense, Dropout, BatchNormalization, Embedding\n",
    "from keras.layers import Conv1D, MaxPooling1D, Activation, Flatten\n",
    "from keras.preprocessing import sequence\n",
    "import scipy.io as scio\n",
    "# fix random seed for reproducibility\n",
    "np.random.seed(7)\n",
    "import math\n",
    "import warnings\n",
    "\n",
    "warnings.filterwarnings('ignore')"
   ]
  },
  {
   "cell_type": "code",
   "execution_count": 2,
   "id": "zCDIZ8l7Jn1J",
   "metadata": {
    "id": "zCDIZ8l7Jn1J"
   },
   "outputs": [],
   "source": [
    "import tensorflow as tf\n",
    "import sys\n",
    "from sklearn.preprocessing import StandardScaler\n",
    "#np.set_printoptions(threshold=sys.maxsize)\n",
    "from keras.models import Sequential\n",
    "from numba import jit,cuda\n",
    "from keras.layers import LSTM, Dense, Dropout, BatchNormalization, Embedding\n",
    "from keras.layers import Conv1D, MaxPooling1D, Activation, Flatten\n",
    "from keras.preprocessing import sequence\n",
    "import scipy.io as scio\n",
    "from sklearn.model_selection import train_test_split\n",
    "# fix random seed for reproducibility\n",
    "np.random.seed(7)\n",
    "import warnings\n",
    "warnings.filterwarnings('ignore')"
   ]
  },
  {
   "cell_type": "markdown",
   "id": "cedfe3af",
   "metadata": {},
   "source": [
    "Loading from google drive in Colab only"
   ]
  },
  {
   "cell_type": "code",
   "execution_count": null,
   "id": "cBksQ_2PDril",
   "metadata": {
    "colab": {
     "base_uri": "https://localhost:8080/"
    },
    "id": "cBksQ_2PDril",
    "outputId": "cbb93ecd-ae56-442b-89fd-eb50082b4772"
   },
   "outputs": [],
   "source": [
    "from google.colab import drive\n",
    "\n",
    "drive.mount('/content/gdrive')"
   ]
  },
  {
   "cell_type": "markdown",
   "id": "f3888513",
   "metadata": {},
   "source": [
    "Loading from Local Drive in form of Dictionary"
   ]
  },
  {
   "cell_type": "code",
   "execution_count": 4,
   "id": "c56c1c22",
   "metadata": {
    "colab": {
     "base_uri": "https://localhost:8080/"
    },
    "id": "c56c1c22",
    "outputId": "ee8e490e-a4b9-4e75-cfb0-40fa8b81c079"
   },
   "outputs": [
    {
     "name": "stdout",
     "output_type": "stream",
     "text": [
      "D:\\GitHub\\PPG_Analysis\n"
     ]
    }
   ],
   "source": [
    "import os\n",
    "import pandas as pd\n",
    "\n",
    "print(os.getcwd())\n",
    "#path = '/content/gdrive/MyDrive/csv'\n",
    "path ='D:\\GitHub\\PPG_Analysis\\csv'\n",
    "set = {}\n",
    "\n",
    "\n",
    "for dataset in os.listdir(path):\n",
    "\n",
    "    head,sep,tail = dataset.partition('.')   #Taking the head as subject name\n",
    "     #print(head)\n",
    "    data = pd.read_csv(os.path.join(path,dataset))\n",
    "    set[head] = data                         # Saving data against individual subject name in dictionary format\n"
   ]
  },
  {
   "cell_type": "code",
   "execution_count": 47,
   "id": "3b3efb2c",
   "metadata": {},
   "outputs": [
    {
     "name": "stdout",
     "output_type": "stream",
     "text": [
      "{'s10_run':                               time    ecg  peaks  pleth_1  pleth_2  pleth_3  \\\n",
      "0       2021-01-01 11:22:48.305804  33664      0    65589    69333     3164   \n",
      "1       2021-01-01 11:22:48.307804  33866      0    65589    69333     3164   \n",
      "2       2021-01-01 11:22:48.309804  34155      0    65595    69334     3181   \n",
      "3       2021-01-01 11:22:48.311804  34366      0    65591    69349     3175   \n",
      "4       2021-01-01 11:22:48.313804  34538      0    65583    69343     3186   \n",
      "...                            ...    ...    ...      ...      ...      ...   \n",
      "242810  2021-01-01 11:30:53.925806  31926      0    64310    64964     3313   \n",
      "242811  2021-01-01 11:30:53.927806  32012      0    64310    64964     3313   \n",
      "242812  2021-01-01 11:30:53.929806  32322      0    64298    64925     3312   \n",
      "242813  2021-01-01 11:30:53.931806  32788      0    64266    64885     3309   \n",
      "242814  2021-01-01 11:30:53.933806  33205      0    64251    64835     3303   \n",
      "\n",
      "        pleth_4  pleth_5  pleth_6     lc_1     lc_2  temp_1  temp_2  \\\n",
      "0         90553   103093     5652  6297684  6497440   33.56   35.13   \n",
      "1         90558   103077     5647  6297684  6497440   33.56   35.13   \n",
      "2         90544   103098     5660  6297798  6492958   33.56   35.25   \n",
      "3         90544   103098     5660  6297798  6492958   33.56   35.25   \n",
      "4         90554   103093     5651  6297798  6492958   33.56   35.25   \n",
      "...         ...      ...      ...      ...      ...     ...     ...   \n",
      "242810    90934   102013     5934  6305669  6379195   33.31   34.69   \n",
      "242811    90927   101993     5927  6305669  6379195   33.31   34.69   \n",
      "242812    90912   101984     5919  6305669  6379195   33.31   34.69   \n",
      "242813    90922   101962     5921  6299878  6366030   33.31   34.69   \n",
      "242814    90928   101959     5919  6299878  6366030   33.31   34.69   \n",
      "\n",
      "           temp_3       a_x       a_y       a_z       g_x       g_y       g_z  \n",
      "0       32.762062  9.849649 -6.802872 -3.593880  1.154780  0.162031 -1.012268  \n",
      "1       32.771049  9.855037 -6.833998 -3.630393  1.149587  0.175879 -1.005211  \n",
      "2       32.774044  9.861621 -6.848364 -3.741729  1.137070  0.198783 -0.985370  \n",
      "3       32.774044  9.861621 -6.848364 -3.741729  1.137070  0.198783 -0.985370  \n",
      "4       32.777039  9.877184 -6.873505 -3.763278  1.129213  0.206506 -0.972453  \n",
      "...           ...       ...       ...       ...       ...       ...       ...  \n",
      "242810  32.318779  2.621784 -2.020211 -2.524216 -0.085872 -0.140243 -0.089203  \n",
      "242811  32.312786  2.710374 -2.000458 -2.570307 -0.066298 -0.117206 -0.106380  \n",
      "242812  32.321774  2.803154 -1.983099 -2.630165 -0.042196 -0.091639 -0.126754  \n",
      "242813  32.321774  2.909702 -1.972324 -2.689424 -0.013167 -0.063809 -0.151255  \n",
      "242814  32.315781  3.030017 -1.970528 -2.758859  0.021188 -0.033448 -0.181083  \n",
      "\n",
      "[242815 rows x 20 columns], 's10_sit':                               time    ecg  peaks  pleth_1  pleth_2  pleth_3  \\\n",
      "0       2021-01-01 11:42:11.380563  29634      0    66165    68100     3605   \n",
      "1       2021-01-01 11:42:11.382563  29687      0    66160    68084     3603   \n",
      "2       2021-01-01 11:42:11.384563  29785      0    66149    68081     3606   \n",
      "3       2021-01-01 11:42:11.386563  29887      0    66153    68071     3594   \n",
      "4       2021-01-01 11:42:11.388563  29944      0    66153    68071     3594   \n",
      "...                            ...    ...    ...      ...      ...      ...   \n",
      "242838  2021-01-01 11:50:17.056565  35988      0    66424    68707     3542   \n",
      "242839  2021-01-01 11:50:17.058565  36182      0    66405    68692     3541   \n",
      "242840  2021-01-01 11:50:17.060565  36348      0    66403    68688     3541   \n",
      "242841  2021-01-01 11:50:17.062565  36490      0    66406    68673     3548   \n",
      "242842  2021-01-01 11:50:17.064565  36635      0    66391    68662     3537   \n",
      "\n",
      "        pleth_4  pleth_5  pleth_6     lc_1     lc_2  temp_1  temp_2  \\\n",
      "0         90569    99964     6084  6309080  6604837   33.94   36.00   \n",
      "1         90569    99964     6084  6309080  6604837   33.94   36.00   \n",
      "2         90571    99960     6082  6308823  6603053   33.94   36.00   \n",
      "3         90580    99967     6084  6308823  6603053   33.94   36.00   \n",
      "4         90579    99948     6082  6308823  6603053   33.94   35.63   \n",
      "...         ...      ...      ...      ...      ...     ...     ...   \n",
      "242838    90701   100168     6304  6388844  6798089   34.88   36.50   \n",
      "242839    90701   100175     6303  6388844  6798089   34.88   36.50   \n",
      "242840    90711   100180     6286  6388844  6798089   34.88   36.50   \n",
      "242841    90711   100180     6286  6388844  6798089   34.88   36.50   \n",
      "242842    90710   100183     6300  6388844  6798089   34.88   36.50   \n",
      "\n",
      "           temp_3       a_x       a_y       a_z       g_x       g_y       g_z  \n",
      "0       33.172401  5.588950  4.046407 -6.884279  0.000282 -0.071532  0.036767  \n",
      "1       33.178394  5.601521  4.040421 -6.910018  0.002013 -0.071799  0.033970  \n",
      "2       33.175400  5.614689  4.033238 -6.938151  0.003079 -0.073396  0.031440  \n",
      "3       33.181389  5.620076  4.036231 -6.944736  0.004144 -0.075793  0.028644  \n",
      "4       33.184383  5.618280  4.024858 -6.936954  0.004810 -0.079122  0.025182  \n",
      "...           ...       ...       ...       ...       ...       ...       ...  \n",
      "242838  34.478302  5.586556  3.119205 -7.232653  0.013598 -0.090042  0.047553  \n",
      "242839  34.478302  5.583563  3.110825 -7.221280  0.014530 -0.089243  0.046621  \n",
      "242840  34.481297  5.582964  3.103642 -7.219484  0.014264 -0.088444  0.046088  \n",
      "242841  34.487286  5.578774  3.089875 -7.229062  0.014264 -0.087378  0.045422  \n",
      "242842  34.484291  5.573387  3.079100 -7.226667  0.012933 -0.086180  0.044890  \n",
      "\n",
      "[242843 rows x 20 columns]}\n"
     ]
    }
   ],
   "source": [
    "# So it will look like this (First 2)\n",
    "import itertools\n",
    "N=2\n",
    "set_part = dict(itertools.islice(set.items(), N))\n",
    "print(set_part)"
   ]
  },
  {
   "cell_type": "markdown",
   "id": "400d2df5",
   "metadata": {},
   "source": [
    "If we observe the keys of the dictionary, we can see that there are total 22 subjects, each performing 3 different activites."
   ]
  },
  {
   "cell_type": "code",
   "execution_count": 7,
   "id": "42a6bf8a",
   "metadata": {},
   "outputs": [
    {
     "data": {
      "text/plain": [
       "dict_keys(['s10_run', 's10_sit', 's10_walk', 's11_run', 's11_sit', 's11_walk', 's12_run', 's12_sit', 's12_walk', 's13_run', 's13_sit', 's13_walk', 's14_run', 's14_sit', 's14_walk', 's15_run', 's15_sit', 's15_walk', 's16_run', 's16_sit', 's16_walk', 's17_run', 's17_sit', 's17_walk', 's18_run', 's18_sit', 's18_walk', 's19_run', 's19_sit', 's19_walk', 's1_run', 's1_sit', 's1_walk', 's20_run', 's20_sit', 's20_walk', 's21_run', 's21_sit', 's21_walk', 's22_run', 's22_sit', 's22_walk', 's2_run', 's2_sit', 's2_walk', 's3_run', 's3_sit', 's3_walk', 's4_run', 's4_sit', 's4_walk', 's5_run', 's5_sit', 's5_walk', 's6_run', 's6_sit', 's6_walk', 's7_run', 's7_sit', 's7_walk', 's8_run', 's8_sit', 's8_walk', 's9_run', 's9_sit', 's9_walk'])"
      ]
     },
     "execution_count": 7,
     "metadata": {},
     "output_type": "execute_result"
    }
   ],
   "source": [
    "set.keys()"
   ]
  },
  {
   "cell_type": "markdown",
   "id": "48961e14",
   "metadata": {},
   "source": [
    "So this dictioanry is now comprised of the data for different activities performed by different subjects, for example s10_run means the PPG dataset of Subject 10, while running.\n",
    "\n",
    "Now if we see the different physiological signal taken from the subjects there are total 18. \n",
    "But for our analysis, we will only take first 8 signal data, which are ECG, Peaks, and Pleth 1 to Pleth 6. These will be used as features."
   ]
  },
  {
   "cell_type": "markdown",
   "id": "9efa6d96",
   "metadata": {},
   "source": [
    "In the next step, we are converting this dictionary data into a dataframe matrix set. Where the subject serial numbers will be subject id, and the activity will be considered as label.\n",
    "\n",
    "For example, 's7_sit' will go like 'SubjectID' : s7, 'Label' : 'sit'"
   ]
  },
  {
   "cell_type": "code",
   "execution_count": 9,
   "id": "cc37ccdb",
   "metadata": {
    "id": "cc37ccdb"
   },
   "outputs": [],
   "source": [
    "\n",
    "alllabels = pd.DataFrame()\n",
    "dset = pd.DataFrame()\n",
    "i=0\n",
    "for key,value in set.items():\n",
    "    \n",
    "    subs=[]\n",
    "    labels = []\n",
    "    featureset=[]\n",
    "    data = pd.DataFrame(value.iloc[:,:9])\n",
    "    sub_label = key.split('_')\n",
    "    sub = sub_label[0]\n",
    "    label = sub_label[1]\n",
    "    \n",
    "    for i in range(len(data)):\n",
    "        subs.append([sub])\n",
    "        labels.append(label)\n",
    "    labels = pd.DataFrame(labels,columns=['Label'])\n",
    "    subs = pd.DataFrame(subs,columns=['SubjectID'])\n",
    "    featureset = pd.concat([subs,data,labels],axis=1)\n",
    "    if i<1:\n",
    "        dset = featureset\n",
    "        \n",
    "    else:\n",
    "        \n",
    "        f = featureset.copy()\n",
    "        \n",
    "        dset = pd.concat([dset,f],axis=0)\n",
    "       \n",
    "    i+=1\n",
    "    "
   ]
  },
  {
   "cell_type": "markdown",
   "id": "245213cc",
   "metadata": {},
   "source": [
    "So the data set will look like"
   ]
  },
  {
   "cell_type": "code",
   "execution_count": 10,
   "id": "d8f30636",
   "metadata": {},
   "outputs": [
    {
     "name": "stdout",
     "output_type": "stream",
     "text": [
      "  SubjectID                        time    ecg  peaks  pleth_1  pleth_2  \\\n",
      "0       s10  2021-01-01 11:22:48.305804  33664      0    65589    69333   \n",
      "1       s10  2021-01-01 11:22:48.307804  33866      0    65589    69333   \n",
      "2       s10  2021-01-01 11:22:48.309804  34155      0    65595    69334   \n",
      "3       s10  2021-01-01 11:22:48.311804  34366      0    65591    69349   \n",
      "4       s10  2021-01-01 11:22:48.313804  34538      0    65583    69343   \n",
      "\n",
      "   pleth_3  pleth_4  pleth_5  pleth_6 Label  \n",
      "0     3164    90553   103093     5652   run  \n",
      "1     3164    90558   103077     5647   run  \n",
      "2     3181    90544   103098     5660   run  \n",
      "3     3175    90544   103098     5660   run  \n",
      "4     3186    90554   103093     5651   run  \n"
     ]
    }
   ],
   "source": [
    "print(dset.head(5))"
   ]
  },
  {
   "cell_type": "markdown",
   "id": "250fba1a",
   "metadata": {},
   "source": [
    "As the time data is irrelevent we are going to drop that column"
   ]
  },
  {
   "cell_type": "code",
   "execution_count": 12,
   "id": "eb9615d3",
   "metadata": {
    "id": "eb9615d3"
   },
   "outputs": [],
   "source": [
    "dset=dset.drop(['time'],axis=1)"
   ]
  },
  {
   "cell_type": "markdown",
   "id": "3d9ef8d9",
   "metadata": {},
   "source": [
    "Now, the feature set will only be the dataset, excluding subject id and label data. "
   ]
  },
  {
   "cell_type": "code",
   "execution_count": 13,
   "id": "a7f25ea9",
   "metadata": {
    "id": "a7f25ea9"
   },
   "outputs": [],
   "source": [
    "features = dset.drop(['SubjectID','Label'],axis =1)\n",
    "featureshape = features.shape[1]"
   ]
  },
  {
   "cell_type": "markdown",
   "id": "e33f4819",
   "metadata": {},
   "source": [
    "Now we will group the dataset by their subject ID which will be the dataset gp.\n",
    "Later we have to group by their label too. So for that, forgrouping dataset will be used, which will have the feature set along with the labels."
   ]
  },
  {
   "cell_type": "code",
   "execution_count": 14,
   "id": "e2fa1d25",
   "metadata": {},
   "outputs": [],
   "source": [
    "\n",
    "gp=dset.groupby('SubjectID').agg(pd.Series.tolist)\n",
    "forgrouping = dset.drop(['SubjectID'],axis=1)\n",
    "forgroupingcolumns = forgrouping.columns\n",
    "allcolumns = dset.columns\n",
    "    "
   ]
  },
  {
   "cell_type": "markdown",
   "id": "9af76f6a",
   "metadata": {},
   "source": [
    "So the gp will look like"
   ]
  },
  {
   "cell_type": "code",
   "execution_count": 16,
   "id": "f377c12e",
   "metadata": {
    "scrolled": true
   },
   "outputs": [
    {
     "data": {
      "text/html": [
       "<div>\n",
       "<style scoped>\n",
       "    .dataframe tbody tr th:only-of-type {\n",
       "        vertical-align: middle;\n",
       "    }\n",
       "\n",
       "    .dataframe tbody tr th {\n",
       "        vertical-align: top;\n",
       "    }\n",
       "\n",
       "    .dataframe thead th {\n",
       "        text-align: right;\n",
       "    }\n",
       "</style>\n",
       "<table border=\"1\" class=\"dataframe\">\n",
       "  <thead>\n",
       "    <tr style=\"text-align: right;\">\n",
       "      <th></th>\n",
       "      <th>ecg</th>\n",
       "      <th>peaks</th>\n",
       "      <th>pleth_1</th>\n",
       "      <th>pleth_2</th>\n",
       "      <th>pleth_3</th>\n",
       "      <th>pleth_4</th>\n",
       "      <th>pleth_5</th>\n",
       "      <th>pleth_6</th>\n",
       "      <th>Label</th>\n",
       "    </tr>\n",
       "    <tr>\n",
       "      <th>SubjectID</th>\n",
       "      <th></th>\n",
       "      <th></th>\n",
       "      <th></th>\n",
       "      <th></th>\n",
       "      <th></th>\n",
       "      <th></th>\n",
       "      <th></th>\n",
       "      <th></th>\n",
       "      <th></th>\n",
       "    </tr>\n",
       "  </thead>\n",
       "  <tbody>\n",
       "    <tr>\n",
       "      <th>s1</th>\n",
       "      <td>[31978, 32078, 32148, 32257, 32380, 32460, 325...</td>\n",
       "      <td>[0, 0, 0, 0, 0, 0, 0, 0, 0, 0, 0, 0, 0, 0, 0, ...</td>\n",
       "      <td>[83324, 83324, 83324, 83319, 83314, 83311, 833...</td>\n",
       "      <td>[87262, 87262, 87277, 87281, 87258, 87265, 872...</td>\n",
       "      <td>[6070, 6070, 6063, 6070, 6073, 6071, 6071, 606...</td>\n",
       "      <td>[85787, 85794, 85782, 85782, 85787, 85784, 857...</td>\n",
       "      <td>[99285, 99281, 99269, 99269, 99281, 99285, 992...</td>\n",
       "      <td>[7017, 7022, 7015, 7015, 7015, 7015, 7017, 701...</td>\n",
       "      <td>[run, run, run, run, run, run, run, run, run, ...</td>\n",
       "    </tr>\n",
       "    <tr>\n",
       "      <th>s10</th>\n",
       "      <td>[33664, 33866, 34155, 34366, 34538, 34628, 346...</td>\n",
       "      <td>[0, 0, 0, 0, 0, 0, 0, 0, 0, 0, 0, 0, 0, 0, 0, ...</td>\n",
       "      <td>[65589, 65589, 65595, 65591, 65583, 65590, 655...</td>\n",
       "      <td>[69333, 69333, 69334, 69349, 69343, 69327, 693...</td>\n",
       "      <td>[3164, 3164, 3181, 3175, 3186, 3172, 3172, 317...</td>\n",
       "      <td>[90553, 90558, 90544, 90544, 90554, 90557, 905...</td>\n",
       "      <td>[103093, 103077, 103098, 103098, 103093, 10309...</td>\n",
       "      <td>[5652, 5647, 5660, 5660, 5651, 5651, 5650, 565...</td>\n",
       "      <td>[run, run, run, run, run, run, run, run, run, ...</td>\n",
       "    </tr>\n",
       "    <tr>\n",
       "      <th>s11</th>\n",
       "      <td>[30399, 30411, 30418, 30466, 30476, 30454, 304...</td>\n",
       "      <td>[0, 0, 0, 0, 0, 0, 0, 0, 0, 0, 0, 0, 0, 0, 0, ...</td>\n",
       "      <td>[79462, 79462, 79458, 79456, 79456, 79459, 794...</td>\n",
       "      <td>[81869, 81872, 81868, 81870, 81870, 81878, 818...</td>\n",
       "      <td>[4043, 4045, 4050, 4042, 4042, 4050, 4045, 404...</td>\n",
       "      <td>[82859, 82859, 82857, 82856, 82851, 82858, 828...</td>\n",
       "      <td>[92105, 92105, 92116, 92101, 92099, 92094, 920...</td>\n",
       "      <td>[4519, 4519, 4503, 4518, 4511, 4509, 4509, 451...</td>\n",
       "      <td>[run, run, run, run, run, run, run, run, run, ...</td>\n",
       "    </tr>\n",
       "  </tbody>\n",
       "</table>\n",
       "</div>"
      ],
      "text/plain": [
       "                                                         ecg  \\\n",
       "SubjectID                                                      \n",
       "s1         [31978, 32078, 32148, 32257, 32380, 32460, 325...   \n",
       "s10        [33664, 33866, 34155, 34366, 34538, 34628, 346...   \n",
       "s11        [30399, 30411, 30418, 30466, 30476, 30454, 304...   \n",
       "\n",
       "                                                       peaks  \\\n",
       "SubjectID                                                      \n",
       "s1         [0, 0, 0, 0, 0, 0, 0, 0, 0, 0, 0, 0, 0, 0, 0, ...   \n",
       "s10        [0, 0, 0, 0, 0, 0, 0, 0, 0, 0, 0, 0, 0, 0, 0, ...   \n",
       "s11        [0, 0, 0, 0, 0, 0, 0, 0, 0, 0, 0, 0, 0, 0, 0, ...   \n",
       "\n",
       "                                                     pleth_1  \\\n",
       "SubjectID                                                      \n",
       "s1         [83324, 83324, 83324, 83319, 83314, 83311, 833...   \n",
       "s10        [65589, 65589, 65595, 65591, 65583, 65590, 655...   \n",
       "s11        [79462, 79462, 79458, 79456, 79456, 79459, 794...   \n",
       "\n",
       "                                                     pleth_2  \\\n",
       "SubjectID                                                      \n",
       "s1         [87262, 87262, 87277, 87281, 87258, 87265, 872...   \n",
       "s10        [69333, 69333, 69334, 69349, 69343, 69327, 693...   \n",
       "s11        [81869, 81872, 81868, 81870, 81870, 81878, 818...   \n",
       "\n",
       "                                                     pleth_3  \\\n",
       "SubjectID                                                      \n",
       "s1         [6070, 6070, 6063, 6070, 6073, 6071, 6071, 606...   \n",
       "s10        [3164, 3164, 3181, 3175, 3186, 3172, 3172, 317...   \n",
       "s11        [4043, 4045, 4050, 4042, 4042, 4050, 4045, 404...   \n",
       "\n",
       "                                                     pleth_4  \\\n",
       "SubjectID                                                      \n",
       "s1         [85787, 85794, 85782, 85782, 85787, 85784, 857...   \n",
       "s10        [90553, 90558, 90544, 90544, 90554, 90557, 905...   \n",
       "s11        [82859, 82859, 82857, 82856, 82851, 82858, 828...   \n",
       "\n",
       "                                                     pleth_5  \\\n",
       "SubjectID                                                      \n",
       "s1         [99285, 99281, 99269, 99269, 99281, 99285, 992...   \n",
       "s10        [103093, 103077, 103098, 103098, 103093, 10309...   \n",
       "s11        [92105, 92105, 92116, 92101, 92099, 92094, 920...   \n",
       "\n",
       "                                                     pleth_6  \\\n",
       "SubjectID                                                      \n",
       "s1         [7017, 7022, 7015, 7015, 7015, 7015, 7017, 701...   \n",
       "s10        [5652, 5647, 5660, 5660, 5651, 5651, 5650, 565...   \n",
       "s11        [4519, 4519, 4503, 4518, 4511, 4509, 4509, 451...   \n",
       "\n",
       "                                                       Label  \n",
       "SubjectID                                                     \n",
       "s1         [run, run, run, run, run, run, run, run, run, ...  \n",
       "s10        [run, run, run, run, run, run, run, run, run, ...  \n",
       "s11        [run, run, run, run, run, run, run, run, run, ...  "
      ]
     },
     "execution_count": 16,
     "metadata": {},
     "output_type": "execute_result"
    }
   ],
   "source": [
    "gp.head(3)"
   ]
  },
  {
   "cell_type": "markdown",
   "id": "99de453a",
   "metadata": {},
   "source": [
    "The reason for doing that, we want to downsample our data as the dataset is too large and it will take excessive memory while model training. \n",
    "As we will downsample our featureset, we will loose the correspondence of subject id and labels. So we will do it for individual label of an individual subject. Then we will assign that much subject ids and labels according to the length of that specific downsampled data. In this process, we don't have to worry about the length of downsampled data and how to reduce the length of those categorical values like subject ids and labels."
   ]
  },
  {
   "cell_type": "code",
   "execution_count": 17,
   "id": "3d8e9f59",
   "metadata": {},
   "outputs": [
    {
     "data": {
      "text/plain": [
       "(22, 9)"
      ]
     },
     "execution_count": 17,
     "metadata": {},
     "output_type": "execute_result"
    }
   ],
   "source": [
    "gp.shape"
   ]
  },
  {
   "cell_type": "code",
   "execution_count": 20,
   "id": "38d72f1a",
   "metadata": {},
   "outputs": [],
   "source": [
    "groupwarray = pd.DataFrame(columns=allcolumns) \n",
    "\n",
    "  \n",
    "for counter in range(gp.shape[0]):                                       # As it can be seen that gp has shape of 22 * 9 ,\n",
    "                                                                            #so here iteration is taking place for 22 subjects\n",
    "    newarr = pd.DataFrame(columns=forgroupingcolumns)\n",
    "    for incount in range(gp.shape[1]):                                   # Now it is taking each feature set individually\n",
    "    \n",
    "        newarr[forgroupingcolumns[incount]] = gp.iloc[counter][incount]\n",
    "    newgr = newarr.groupby('Label').agg(pd.Series.tolist) "
   ]
  },
  {
   "cell_type": "code",
   "execution_count": 28,
   "id": "83387e1e",
   "metadata": {},
   "outputs": [],
   "source": [
    "#Assigning a blank dataframe\n",
    "groupwarray = pd.DataFrame(columns=allcolumns) \n",
    "\n",
    "  \n",
    "for counter in range(gp.shape[0]):                                       # As it can be seen that gp has shape of 22 * 9 ,\n",
    "                                                                            #so here iteration is taking place for 22 subjects\n",
    "    newarr = pd.DataFrame(columns=forgroupingcolumns)\n",
    "    for incount in range(gp.shape[1]):                                   # Now it is taking each feature set individually and creating a new dataframe for an individual\n",
    "    \n",
    "        newarr[forgroupingcolumns[incount]] = gp.iloc[counter][incount]\n",
    "    newgr = newarr.groupby('Label').agg(pd.Series.tolist)            # Grouping by label\n",
    "    ngi = newarr.groupby('Label')\n",
    "    ngic = ngi.count()\n",
    "        \n",
    "    for nc in range(newgr.shape[0]):                                 # Entering into group of first label\n",
    "            \n",
    "      \n",
    "        resarray=[]\n",
    "        resarray = pd.DataFrame(columns=allcolumns) \n",
    "            \n",
    "        for ncc in range(newgr.shape[1]):                            # getting each feature for the operation\n",
    "  \n",
    "                \n",
    "            dt = newgr.iloc[nc][ncc]\n",
    "                \n",
    "            rdt = signal.resample(dt,math.floor(len(dt)/5))         # The actual sampling frequency is 500 HZ, we are downsampling it 5 times\n",
    "            resarray[forgroupingcolumns[ncc]] = rdt                  # New dataset with downsampled data\n",
    " \n",
    "            resarray[allcolumns[0]] = gp.index[counter]              # Putting same number of subject id\n",
    "            resarray[allcolumns[-1]] = newgr.index[nc]               # Putting same number of rows\n",
    "                \n",
    "\n",
    "            \n",
    "        groupwarray = pd.concat([groupwarray,resarray],axis=0)       #Merging for all subjects and getting the final dataset\n",
    "            "
   ]
  },
  {
   "cell_type": "code",
   "execution_count": 29,
   "id": "f713d234",
   "metadata": {},
   "outputs": [
    {
     "name": "stdout",
     "output_type": "stream",
     "text": [
      "  SubjectID           ecg     peaks       pleth_1       pleth_2      pleth_3  \\\n",
      "0        s1  30043.304155  0.002698  83153.183175  87255.224372  5969.011737   \n",
      "1        s1  32875.993820 -0.002810  83351.945848  87269.318295  6090.402356   \n",
      "2        s1  32997.773428  0.002937  83293.809542  87255.379113  6054.399800   \n",
      "\n",
      "        pleth_4       pleth_5      pleth_6 Label  \n",
      "0  86404.879892  99798.935270  7160.318314   run  \n",
      "1  85651.260097  99171.690857  6986.231548   run  \n",
      "2  85867.503363  99357.567711  7027.108726   run  \n"
     ]
    }
   ],
   "source": [
    "print(groupwarray.head(3))"
   ]
  },
  {
   "cell_type": "code",
   "execution_count": 30,
   "id": "b8a5eec3",
   "metadata": {},
   "outputs": [
    {
     "name": "stdout",
     "output_type": "stream",
     "text": [
      "The shape of the original dataset : (16217132, 10)\n",
      "The shape of the downsampled dataset : (3243398, 10)\n",
      "The reduction ratio : 80.00017512344353 %\n"
     ]
    }
   ],
   "source": [
    "print('The shape of the original dataset :',dset.shape)\n",
    "print('The shape of the downsampled dataset :',groupwarray.shape)\n",
    "print('The reduction ratio :',(dset.shape[0]-groupwarray.shape[0])*100/dset.shape[0],'%')"
   ]
  },
  {
   "cell_type": "markdown",
   "id": "474ccf1a",
   "metadata": {},
   "source": [
    "Though the reduction ratio is high, but data is till relevant as the samplig frequency is still 100 Hz"
   ]
  },
  {
   "cell_type": "code",
   "execution_count": 31,
   "id": "bbe62073",
   "metadata": {},
   "outputs": [],
   "source": [
    "# So the new feature set will be\n",
    "newfeatures = groupwarray.drop(['SubjectID','Label'],axis=1)"
   ]
  },
  {
   "cell_type": "markdown",
   "id": "ab3a0065",
   "metadata": {},
   "source": [
    "This function will help to find outlier data from each feature and first eliminate them, then it will calculate the mean value of each outlier removed feature set. Then it will replace the outler values with those mean values."
   ]
  },
  {
   "cell_type": "code",
   "execution_count": 33,
   "id": "fPyxk_T1J7ta",
   "metadata": {
    "id": "fPyxk_T1J7ta"
   },
   "outputs": [],
   "source": [
    "@jit(target_backend='cuda')                                    # For using the GPU\n",
    "def olrem(data):\n",
    "    data1 = data.copy()\n",
    "    for key,item in data.items():\n",
    "        \n",
    "    \n",
    "        Q1 = item.quantile(0.25)\n",
    "        Q3 = item.quantile(0.75)\n",
    "        IQR = Q3 - Q1\n",
    "        lrange = Q1 - 1.5*IQR\n",
    "        urange = Q3 + 1.5*IQR\n",
    "\n",
    "        data1.loc[data1[key]<lrange,key]=0                      #First eliminating the outlier values\n",
    "        data1.loc[data1[key]>urange,key]=0\n",
    "        \n",
    "        data.loc[data[key]<lrange,key] = np.mean(data1[key])    # Replacing the oytlier values with the mean of outlier removed data\n",
    "        data.loc[data[key]>urange,key]= np.mean(data1[key])\n",
    "    \n",
    "        \n",
    "        \n",
    "\n",
    "        return data  "
   ]
  },
  {
   "cell_type": "code",
   "execution_count": 34,
   "id": "oMlDBlj6KIka",
   "metadata": {
    "id": "oMlDBlj6KIka"
   },
   "outputs": [],
   "source": [
    "#So refet will be outlier free data set\n",
    "\n",
    "refet = olrem(newfeatures)"
   ]
  },
  {
   "cell_type": "markdown",
   "id": "4cb340d7",
   "metadata": {},
   "source": [
    "Now, we are using standard scaler method, with 0 mean and unit standard deviation to normalize the dtataset."
   ]
  },
  {
   "cell_type": "code",
   "execution_count": 35,
   "id": "2d0739db",
   "metadata": {
    "id": "2d0739db"
   },
   "outputs": [],
   "source": [
    "scale = StandardScaler()\n",
    "fet = scale.fit_transform(refet)             # Standardization on new outlier free dataset\n",
    "fet.astype('float16')\n",
    "dsett= groupwarray.copy()\n",
    "dsett.iloc[:,1:-1] = fet                     #Replacing the old feature set with new outlier free standardized dataset"
   ]
  },
  {
   "cell_type": "markdown",
   "id": "4048ab9b",
   "metadata": {},
   "source": [
    "Now we are encoding the subject id and label. For subject id we are using label encoder, which will just assign one numerical value for each subject like 0,1,2,3...., and for label we are using one-hot-encoder which will assign same number of columns as number of class. So in this case, there are three classes. So for one particular class the encoded data will be [1 0 0], while another one will be [0 1 0]"
   ]
  },
  {
   "cell_type": "code",
   "execution_count": 36,
   "id": "c2a3c682",
   "metadata": {},
   "outputs": [],
   "source": [
    "from keras.utils import np_utils\n",
    "from sklearn.preprocessing import OrdinalEncoder,LabelEncoder, OneHotEncoder\n",
    "le = LabelEncoder()\n",
    "enc = OrdinalEncoder()\n",
    "\n",
    "yl = np.reshape(groupwarray['Label'].values,(-1,1))\n",
    "ohe  = OneHotEncoder( sparse=False).fit(yl)\n",
    "\n",
    "ye=ohe.transform(yl)\n",
    "\n",
    "dset['SubjectID'] = le.fit_transform(dset['SubjectID'])"
   ]
  },
  {
   "cell_type": "markdown",
   "id": "df42b81c",
   "metadata": {},
   "source": [
    "Now ye will look like"
   ]
  },
  {
   "cell_type": "code",
   "execution_count": 38,
   "id": "a3013e3e",
   "metadata": {},
   "outputs": [
    {
     "name": "stdout",
     "output_type": "stream",
     "text": [
      "[[1. 0. 0.]\n",
      " [1. 0. 0.]\n",
      " [1. 0. 0.]\n",
      " ...\n",
      " [0. 0. 1.]\n",
      " [0. 0. 1.]\n",
      " [0. 0. 1.]]\n"
     ]
    }
   ],
   "source": [
    "print(ye)"
   ]
  },
  {
   "cell_type": "markdown",
   "id": "97f4b6ef",
   "metadata": {},
   "source": [
    "We are using 70-30 train test split for validation "
   ]
  },
  {
   "cell_type": "code",
   "execution_count": 39,
   "id": "1a84d066",
   "metadata": {},
   "outputs": [],
   "source": [
    "X_train,X_test,y_train,y_test = train_test_split(fet,ye,test_size=0.3)"
   ]
  },
  {
   "cell_type": "markdown",
   "id": "616e782f",
   "metadata": {},
   "source": [
    "We are initializing our LSTM network and the model will be displayed below"
   ]
  },
  {
   "cell_type": "code",
   "execution_count": 40,
   "id": "225cf794",
   "metadata": {
    "colab": {
     "base_uri": "https://localhost:8080/"
    },
    "id": "225cf794",
    "outputId": "ea903c8f-1666-447e-aabd-26d189d6dfea"
   },
   "outputs": [
    {
     "name": "stdout",
     "output_type": "stream",
     "text": [
      "Model: \"sequential\"\n",
      "_________________________________________________________________\n",
      " Layer (type)                Output Shape              Param #   \n",
      "=================================================================\n",
      " lstm (LSTM)                 (None, 1, 50)             11800     \n",
      "                                                                 \n",
      " dropout (Dropout)           (None, 1, 50)             0         \n",
      "                                                                 \n",
      " batch_normalization (BatchN  (None, 1, 50)            200       \n",
      " ormalization)                                                   \n",
      "                                                                 \n",
      " lstm_1 (LSTM)               (None, 1, 80)             41920     \n",
      "                                                                 \n",
      " dropout_1 (Dropout)         (None, 1, 80)             0         \n",
      "                                                                 \n",
      " dense (Dense)               (None, 1, 3)              243       \n",
      "                                                                 \n",
      "=================================================================\n",
      "Total params: 54,163\n",
      "Trainable params: 54,063\n",
      "Non-trainable params: 100\n",
      "_________________________________________________________________\n",
      "None\n"
     ]
    }
   ],
   "source": [
    "from keras.layers import Dropout\n",
    "model = Sequential()\n",
    "#model.add(Embedding(tot_length, embedding_vector_length, input_length=max_length))\n",
    "#model.add(Dropout(0.2))\n",
    "model.add(LSTM(50,activation = 'tanh',return_sequences=True, input_shape = (1,featureshape)))\n",
    "model.add(Dropout(0.5))\n",
    "model.add(BatchNormalization())\n",
    "model.add(LSTM(80,activation = 'sigmoid',return_sequences=True, stateful=False))\n",
    "#model.add(Dense(1, activation='sigmoid'))\n",
    "model.add(Dropout(0.5))\n",
    "model.add(Dense(3, activation='softmax'))\n",
    "model.compile(loss='binary_crossentropy', optimizer='adam', metrics=['accuracy'])\n",
    "#model.build()\n",
    "print(model.summary())\n"
   ]
  },
  {
   "cell_type": "markdown",
   "id": "7fee5f13",
   "metadata": {},
   "source": [
    "We are saving the model check point as the best model according to the least validation loss."
   ]
  },
  {
   "cell_type": "code",
   "execution_count": 41,
   "id": "6fe379d0",
   "metadata": {},
   "outputs": [],
   "source": [
    "from keras.callbacks import EarlyStopping, ModelCheckpoint\n",
    "\n",
    "callback_a = ModelCheckpoint(filepath='my_best_model.hdf5',monitor = 'val_loss',save_best_only = True)\n",
    "callback_b = EarlyStopping(monitor = 'val_loss',mode = 'min', patience =20 , verbose =1)"
   ]
  },
  {
   "cell_type": "markdown",
   "id": "50f1dcac",
   "metadata": {},
   "source": [
    "We have to resize our train, test and label data set because in LSTM network we must feed data in 3D format. \n",
    "Then we are taking 40 batches for training and 20 epochs for hyper parameters tuning to get the best model and validation result."
   ]
  },
  {
   "cell_type": "code",
   "execution_count": 43,
   "id": "78a0e25f",
   "metadata": {
    "colab": {
     "base_uri": "https://localhost:8080/",
     "height": 311
    },
    "id": "78a0e25f",
    "outputId": "45f87662-c110-4ce1-8361-17a44cafb94c"
   },
   "outputs": [
    {
     "name": "stdout",
     "output_type": "stream",
     "text": [
      "Epoch 1/20\n",
      "56760/56760 [==============================] - 220s 4ms/step - loss: 0.0770 - accuracy: 0.9533 - val_loss: 0.0255 - val_accuracy: 0.9848\n",
      "Epoch 2/20\n",
      "56760/56760 [==============================] - 224s 4ms/step - loss: 0.0753 - accuracy: 0.9545 - val_loss: 0.0251 - val_accuracy: 0.9848\n",
      "Epoch 3/20\n",
      "56760/56760 [==============================] - 228s 4ms/step - loss: 0.0740 - accuracy: 0.9553 - val_loss: 0.0248 - val_accuracy: 0.9850\n",
      "Epoch 4/20\n",
      "56760/56760 [==============================] - 229s 4ms/step - loss: 0.0722 - accuracy: 0.9564 - val_loss: 0.0249 - val_accuracy: 0.9849\n",
      "Epoch 5/20\n",
      "56760/56760 [==============================] - 229s 4ms/step - loss: 0.0709 - accuracy: 0.9573 - val_loss: 0.0245 - val_accuracy: 0.9857\n",
      "Epoch 6/20\n",
      "56760/56760 [==============================] - 229s 4ms/step - loss: 0.0697 - accuracy: 0.9583 - val_loss: 0.0218 - val_accuracy: 0.9872\n",
      "Epoch 7/20\n",
      "56760/56760 [==============================] - 234s 4ms/step - loss: 0.0680 - accuracy: 0.9591 - val_loss: 0.0240 - val_accuracy: 0.9857\n",
      "Epoch 8/20\n",
      "56760/56760 [==============================] - 230s 4ms/step - loss: 0.0674 - accuracy: 0.9598 - val_loss: 0.0224 - val_accuracy: 0.9867\n",
      "Epoch 9/20\n",
      "56760/56760 [==============================] - 229s 4ms/step - loss: 0.0664 - accuracy: 0.9605 - val_loss: 0.0214 - val_accuracy: 0.9874\n",
      "Epoch 10/20\n",
      "56760/56760 [==============================] - 231s 4ms/step - loss: 0.0653 - accuracy: 0.9610 - val_loss: 0.0218 - val_accuracy: 0.9869\n",
      "Epoch 11/20\n",
      "56760/56760 [==============================] - 232s 4ms/step - loss: 0.0645 - accuracy: 0.9616 - val_loss: 0.0215 - val_accuracy: 0.9874\n",
      "Epoch 12/20\n",
      "56760/56760 [==============================] - 235s 4ms/step - loss: 0.0637 - accuracy: 0.9621 - val_loss: 0.0205 - val_accuracy: 0.9869\n",
      "Epoch 13/20\n",
      "56760/56760 [==============================] - 237s 4ms/step - loss: 0.0632 - accuracy: 0.9625 - val_loss: 0.0210 - val_accuracy: 0.9876\n",
      "Epoch 14/20\n",
      "56760/56760 [==============================] - 238s 4ms/step - loss: 0.0631 - accuracy: 0.9627 - val_loss: 0.0202 - val_accuracy: 0.9880\n",
      "Epoch 15/20\n",
      "56760/56760 [==============================] - 238s 4ms/step - loss: 0.0623 - accuracy: 0.9632 - val_loss: 0.0197 - val_accuracy: 0.9886\n",
      "Epoch 16/20\n",
      "56760/56760 [==============================] - 240s 4ms/step - loss: 0.0616 - accuracy: 0.9635 - val_loss: 0.0210 - val_accuracy: 0.9875\n",
      "Epoch 17/20\n",
      "56760/56760 [==============================] - 239s 4ms/step - loss: 0.0613 - accuracy: 0.9637 - val_loss: 0.0222 - val_accuracy: 0.9864\n",
      "Epoch 18/20\n",
      "56760/56760 [==============================] - 238s 4ms/step - loss: 0.0607 - accuracy: 0.9640 - val_loss: 0.0213 - val_accuracy: 0.9870\n",
      "Epoch 19/20\n",
      "56760/56760 [==============================] - 244s 4ms/step - loss: 0.0601 - accuracy: 0.9644 - val_loss: 0.0217 - val_accuracy: 0.9868\n",
      "Epoch 20/20\n",
      "56760/56760 [==============================] - 243s 4ms/step - loss: 0.0596 - accuracy: 0.9646 - val_loss: 0.0217 - val_accuracy: 0.9878\n"
     ]
    }
   ],
   "source": [
    "with tf.device('/device:GPU:0'):\n",
    "    \n",
    "\n",
    "\n",
    "\n",
    "    X_tr= np.resize(X_train,(X_train.shape[0],1,X_train.shape[1]))\n",
    "    X_ts= np.resize(X_test,(X_test.shape[0],1,X_test.shape[1]))\n",
    "    y_tr = np.resize(y_train,(y_train.shape[0],1,y_train.shape[1]))\n",
    "    y_ts= np.resize(y_test,(y_test.shape[0],1,y_test.shape[1]))\n",
    "    \n",
    "    Model_check = model.fit(X_tr,y_tr, validation_data=(X_ts,y_ts),batch_size=40,epochs = 20,callbacks = [callback_a,callback_b])"
   ]
  },
  {
   "cell_type": "code",
   "execution_count": 44,
   "id": "8e1dc99a",
   "metadata": {},
   "outputs": [
    {
     "name": "stdout",
     "output_type": "stream",
     "text": [
      "{'verbose': 1, 'epochs': 20, 'steps': 56760}\n"
     ]
    }
   ],
   "source": [
    "print(Model_check.params)"
   ]
  },
  {
   "cell_type": "code",
   "execution_count": 45,
   "id": "d41b80f3",
   "metadata": {},
   "outputs": [
    {
     "data": {
      "image/png": "[encoded data removed]",
      "text/plain": [
       "<Figure size 640x480 with 1 Axes>"
      ]
     },
     "metadata": {},
     "output_type": "display_data"
    }
   ],
   "source": [
    "import matplotlib.pyplot as plt\n",
    "plt.plot(Model_check.history['accuracy'])\n",
    "plt.plot(Model_check.history['val_accuracy'])\n",
    "plt.ylabel('Accuracy')\n",
    "plt.xlabel('epoch')\n",
    "plt.legend(['traininig data','validation data'], loc = 'lower right')\n",
    "plt.show()"
   ]
  },
  {
   "cell_type": "code",
   "execution_count": null,
   "id": "6c58c1c5",
   "metadata": {},
   "outputs": [],
   "source": []
  }
 ],
 "metadata": {
  "accelerator": "GPU",
  "celltoolbar": "Edit Metadata",
  "colab": {
   "include_colab_link": true,
   "machine_shape": "hm",
   "provenance": []
  },
  "gpuClass": "premium",
  "kernelspec": {
   "display_name": "Python 3 (ipykernel)",
   "language": "python",
   "name": "python3"
  },
  "language_info": {
   "codemirror_mode": {
    "name": "ipython",
    "version": 3
   },
   "file_extension": ".py",
   "mimetype": "text/x-python",
   "name": "python",
   "nbconvert_exporter": "python",
   "pygments_lexer": "ipython3",
   "version": "3.9.13"
  }
 },
 "nbformat": 4,
 "nbformat_minor": 5
}
